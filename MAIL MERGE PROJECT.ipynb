{
 "cells": [
  {
   "cell_type": "code",
   "execution_count": 7,
   "id": "fed58a31-9a6f-4ee9-90a9-60f8e6d62a97",
   "metadata": {},
   "outputs": [
    {
     "name": "stdout",
     "output_type": "stream",
     "text": [
      "Dear Aang,\n",
      "\n",
      "You are invited to my birthday this Saturday.\n",
      "\n",
      "Hope you can make it!\n",
      "\n",
      "Angela\n",
      "\n",
      "Dear Zuko,\n",
      "\n",
      "You are invited to my birthday this Saturday.\n",
      "\n",
      "Hope you can make it!\n",
      "\n",
      "Angela\n",
      "\n",
      "Dear Appa,\n",
      "\n",
      "You are invited to my birthday this Saturday.\n",
      "\n",
      "Hope you can make it!\n",
      "\n",
      "Angela\n",
      "\n",
      "Dear Katara,\n",
      "\n",
      "You are invited to my birthday this Saturday.\n",
      "\n",
      "Hope you can make it!\n",
      "\n",
      "Angela\n",
      "\n",
      "Dear Sokka,\n",
      "\n",
      "You are invited to my birthday this Saturday.\n",
      "\n",
      "Hope you can make it!\n",
      "\n",
      "Angela\n",
      "\n",
      "Dear Momo,\n",
      "\n",
      "You are invited to my birthday this Saturday.\n",
      "\n",
      "Hope you can make it!\n",
      "\n",
      "Angela\n",
      "\n",
      "Dear Uncle Iroh,\n",
      "\n",
      "You are invited to my birthday this Saturday.\n",
      "\n",
      "Hope you can make it!\n",
      "\n",
      "Angela\n",
      "\n",
      "Dear Toph,\n",
      "\n",
      "You are invited to my birthday this Saturday.\n",
      "\n",
      "Hope you can make it!\n",
      "\n",
      "Angela\n",
      "\n"
     ]
    }
   ],
   "source": [
    "PLACEHOLDER = \"[name]\"\n",
    "\n",
    "with open(\"./Input/Names/invited_names.txt\") as names_file:\n",
    "    names = names_file.readlines()\n",
    "    \n",
    "\n",
    "with open(\"./Input/Letters/starting_letter.docx\") as letter_file:\n",
    "    letter_contents = letter_file.read()\n",
    "    for name in names:\n",
    "        stripped_name = name.strip()\n",
    "        new_letter = letter_contents.replace(PLACEHOLDER, stripped_name)\n",
    "        print(new_letter)\n",
    "        with open(f\"./Output/ReadyToSend/letter_for_{stripped_name}.docx\", mode = \"w\") as completed_letter:\n",
    "            completed_letter.write(new_letter)\n",
    "            "
   ]
  },
  {
   "cell_type": "code",
   "execution_count": null,
   "id": "0a7a27a0-3e97-4921-af86-e2f1b9891566",
   "metadata": {},
   "outputs": [],
   "source": []
  }
 ],
 "metadata": {
  "kernelspec": {
   "display_name": "Python 3 (ipykernel)",
   "language": "python",
   "name": "python3"
  },
  "language_info": {
   "codemirror_mode": {
    "name": "ipython",
    "version": 3
   },
   "file_extension": ".py",
   "mimetype": "text/x-python",
   "name": "python",
   "nbconvert_exporter": "python",
   "pygments_lexer": "ipython3",
   "version": "3.13.3"
  }
 },
 "nbformat": 4,
 "nbformat_minor": 5
}
